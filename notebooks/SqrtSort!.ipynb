{
  "cells": [
    {
      "cell_type": "markdown",
      "metadata": {},
      "source": [
        "# Ordenação pelo Particionamento usando Raiz Quadráda"
      ]
    },
    {
      "cell_type": "code",
      "execution_count": 1,
      "metadata": {
        "execution": {
          "iopub.execute_input": "2022-06-21T00:20:24.643Z",
          "iopub.status.busy": "2022-06-21T00:20:24.137Z",
          "iopub.status.idle": "2022-06-21T00:20:24.925Z"
        },
        "trusted": true
      },
      "outputs": [],
      "source": [
        "#using Pkg"
      ]
    },
    {
      "cell_type": "code",
      "execution_count": 2,
      "metadata": {
        "execution": {
          "iopub.execute_input": "2022-06-21T00:20:24.970Z",
          "iopub.status.busy": "2022-06-21T00:20:24.958Z",
          "iopub.status.idle": "2022-06-21T00:20:24.989Z"
        },
        "trusted": true
      },
      "outputs": [],
      "source": [
        "#Pkg.add(\"SortingAlgorithms\")"
      ]
    },
    {
      "cell_type": "code",
      "execution_count": 3,
      "metadata": {
        "execution": {
          "iopub.execute_input": "2022-06-21T00:20:25.020Z",
          "iopub.status.busy": "2022-06-21T00:20:25.007Z",
          "iopub.status.idle": "2022-06-21T00:20:25.040Z"
        },
        "trusted": true
      },
      "outputs": [],
      "source": [
        "#Pkg.add(\"DataStructures\")"
      ]
    },
    {
      "cell_type": "code",
      "execution_count": 4,
      "metadata": {
        "execution": {
          "iopub.execute_input": "2022-06-21T00:20:25.068Z",
          "iopub.status.busy": "2022-06-21T00:20:25.058Z",
          "iopub.status.idle": "2022-06-21T00:20:25.122Z"
        },
        "trusted": true
      },
      "outputs": [],
      "source": [
        "using SortingAlgorithms"
      ]
    },
    {
      "cell_type": "code",
      "execution_count": 5,
      "metadata": {
        "execution": {
          "iopub.execute_input": "2022-06-21T00:20:25.150Z",
          "iopub.status.busy": "2022-06-21T00:20:25.139Z",
          "iopub.status.idle": "2022-06-21T00:20:25.167Z"
        },
        "trusted": true
      },
      "outputs": [],
      "source": [
        "using DataStructures"
      ]
    },
    {
      "cell_type": "code",
      "execution_count": 6,
      "metadata": {
        "execution": {
          "iopub.execute_input": "2022-06-21T00:20:25.196Z",
          "iopub.status.busy": "2022-06-21T00:20:25.187Z",
          "iopub.status.idle": "2022-06-21T00:20:25.212Z"
        },
        "trusted": true
      },
      "outputs": [],
      "source": [
        "using Random"
      ]
    },
    {
      "cell_type": "markdown",
      "metadata": {},
      "source": [
        "### Particionar"
      ]
    },
    {
      "cell_type": "code",
      "execution_count": 7,
      "metadata": {
        "execution": {
          "iopub.execute_input": "2022-06-21T00:20:25.234Z",
          "iopub.status.busy": "2022-06-21T00:20:25.225Z",
          "iopub.status.idle": "2022-06-21T00:20:25.712Z"
        },
        "trusted": true
      },
      "outputs": [
        {
          "data": {
            "text/plain": [
              "particionar! (generic function with 1 method)"
            ]
          },
          "execution_count": 7,
          "metadata": {},
          "output_type": "execute_result"
        }
      ],
      "source": [
        "@inline function particionar!(enesima_particao::Int64, tamanho_particao::Int64, tamanho_vetor::Int64, vetor::Vector{Int64}, particionado::BinaryMaxHeap{Vector{Int64}})\n",
        "    k::Int64 = 0\n",
        "    j::Int64 = 0\n",
        "    @simd for k = tamanho_particao:tamanho_particao:tamanho_vetor \n",
        "        @inbounds vetor[j+1:k] = sort!(vetor[j+1:k], alg=HeapSort, rev=true)\n",
        "        @inbounds push!(particionado, vetor[j+1:k])   \n",
        "        if (enesima_particao != 0 && k == tamanho_vetor - enesima_particao)\n",
        "            @inbounds vetor[k+enesima_particao:k+enesima_particao] = sort!(vetor[k+enesima_particao:k+enesima_particao], alg=HeapSort, rev=true)\n",
        "            @inbounds push!(particionado, vetor[k+enesima_particao:k+enesima_particao])\n",
        "        end\n",
        "        j = k\n",
        "    end\n",
        "    return particionado\n",
        "end"
      ]
    },
    {
      "cell_type": "markdown",
      "metadata": {},
      "source": [
        "### Juntar"
      ]
    },
    {
      "cell_type": "code",
      "execution_count": 8,
      "metadata": {
        "execution": {
          "iopub.execute_input": "2022-06-21T00:20:25.741Z",
          "iopub.status.busy": "2022-06-21T00:20:25.729Z",
          "iopub.status.idle": "2022-06-21T00:20:25.821Z"
        },
        "trusted": true
      },
      "outputs": [
        {
          "data": {
            "text/plain": [
              "juntar! (generic function with 1 method)"
            ]
          },
          "execution_count": 8,
          "metadata": {},
          "output_type": "execute_result"
        }
      ],
      "source": [
        "function juntar!(tamanho_vetor::Int64, vetor_solucao::Vector{Int64}, particionado::BinaryMaxHeap{Vector{Int64}})\n",
        "    particao_maximo::Vector{Int64} = []\n",
        "    maximo::Int64 = 0\n",
        "    indice_conjunto::Int64 = 0\n",
        "    indice_particao::Int64 = 0\n",
        "  \n",
        "    @simd for _ = 1:tamanho_vetor # c n\n",
        "         @inbounds particao_maximo = pop!(particionado) # remocao do elemento mais alto da arvore binaria heap\n",
        "        if !isempty(particao_maximo)\n",
        "                @inbounds indice_particao = 1\n",
        "                @inbounds maximo = particao_maximo[1]\n",
        "                @inbounds deleteat!(particao_maximo, indice_particao)\n",
        "                @inbounds push!(particionado, particao_maximo) # c n^0.5\n",
        "        end\n",
        "        @inbounds pushfirst!(vetor_solucao, maximo) # insercao do elemento mais alto da arvore binaria heap na solucao\n",
        "    end\n",
        "    return vetor_solucao\n",
        "end"
      ]
    },
    {
      "cell_type": "markdown",
      "metadata": {},
      "source": [
        "### Main"
      ]
    },
    {
      "cell_type": "code",
      "execution_count": 9,
      "metadata": {
        "execution": {
          "iopub.execute_input": "2022-06-21T00:20:25.845Z",
          "iopub.status.busy": "2022-06-21T00:20:25.836Z",
          "iopub.status.idle": "2022-06-21T00:20:25.945Z"
        },
        "trusted": true
      },
      "outputs": [
        {
          "data": {
            "text/plain": [
              "sqrtSort! (generic function with 1 method)"
            ]
          },
          "execution_count": 9,
          "metadata": {},
          "output_type": "execute_result"
        }
      ],
      "source": [
        "function sqrtSort!(vetor::Vector{Int64}) where {Int64}\n",
        "    tamanho_vetor::Int64 = 0\n",
        "    enesima_particao::Int64 = 0\n",
        "    tamanho_particao::Int64 = 0\n",
        "    vetor_solucao::Vector{Int64} = []\n",
        "    particionado::BinaryMaxHeap{Vector{Int64}} = BinaryMaxHeap{Vector{Int64}}()\n",
        "\n",
        "    tamanho_vetor = length(vetor)\n",
        "    tamanho_particao = Int(trunc(sqrt(tamanho_vetor)))\n",
        "    enesima_particao = rem(tamanho_vetor, tamanho_particao)\n",
        "    \n",
        "    # Particiona o vetor original e ordena com HeapSort\n",
        "    particionar!(\n",
        "        enesima_particao,\n",
        "        tamanho_particao,\n",
        "        tamanho_vetor, \n",
        "        vetor,\n",
        "        particionado\n",
        "    )\n",
        "\n",
        "    juntar!(\n",
        "        tamanho_vetor,\n",
        "        vetor_solucao,\n",
        "        particionado\n",
        "    )\n",
        "\n",
        "    return vetor_solucao\n",
        "end"
      ]
    },
    {
      "cell_type": "markdown",
      "metadata": {},
      "source": [
        "### Teste"
      ]
    },
    {
      "cell_type": "code",
      "execution_count": 10,
      "metadata": {
        "execution": {
          "iopub.execute_input": "2022-06-21T00:20:25.976Z",
          "iopub.status.busy": "2022-06-21T00:20:25.964Z",
          "iopub.status.idle": "2022-06-21T00:20:26.075Z"
        },
        "trusted": true
      },
      "outputs": [
        {
          "data": {
            "text/plain": [
              "main (generic function with 1 method)"
            ]
          },
          "execution_count": 10,
          "metadata": {},
          "output_type": "execute_result"
        }
      ],
      "source": [
        "function main(alg::Function)\n",
        "  indices::Vector{Int64} = [10, 100, 1000, 10000, 100000, 1000000, 10000000]\n",
        "  vetor_solucao::Vector{Int64} = []\n",
        "  for i in indices\n",
        "    vetor::Vector{Int64} = rand(Int64, i)\n",
        "    @time vetor_solucao = alg(vetor)\n",
        "  end\n",
        "end"
      ]
    },
    {
      "cell_type": "code",
      "execution_count": 11,
      "metadata": {
        "execution": {
          "iopub.execute_input": "2022-06-21T00:20:26.102Z",
          "iopub.status.busy": "2022-06-21T00:20:26.091Z",
          "iopub.status.idle": "2022-06-21T00:20:31.624Z"
        },
        "trusted": true
      },
      "outputs": [
        {
          "name": "stdout",
          "output_type": "stream",
          "text": [
            "  0.141124 seconds (410.53 k allocations: 21.321 MiB, 99.97% compilation time)\n",
            "  0.000028 seconds (31 allocations: 5.359 KiB)\n",
            "  0.000162 seconds (79 allocations: 41.609 KiB)\n",
            "  0.001825 seconds (217 allocations: 503.625 KiB)\n",
            "  0.021864 seconds (654 allocations: 3.455 MiB)\n",
            "  0.370814 seconds (2.02 k allocations: 25.306 MiB, 3.27% gc time)\n",
            "  4.424494 seconds (12.68 k allocations: 300.024 MiB, 2.95% gc time)\n"
          ]
        }
      ],
      "source": [
        "main(sqrtSort!)"
      ]
    }
  ],
  "metadata": {
    "interpreter": {
      "hash": "d2152fd7f0bbc62aa1baff8c990435d1e2c7175d001561303988032604c11a48"
    },
    "kernelspec": {
      "display_name": "Julia 1.7.1",
      "language": "julia",
      "name": "julia-1.7"
    },
    "language_info": {
      "file_extension": ".jl",
      "mimetype": "application/julia",
      "name": "julia",
      "version": "1.7.3"
    },
    "nteract": {
      "version": "0.28.0"
    }
  },
  "nbformat": 4,
  "nbformat_minor": 2
}
