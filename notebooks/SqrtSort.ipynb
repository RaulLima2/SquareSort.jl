{
  "cells": [
    {
      "cell_type": "markdown",
      "metadata": {},
      "source": [
        "# Ordenação pelo Particionamento usando a Raiz Quadráda\n",
        "\n",
        "## Resumo\n"
      ]
    },
    {
      "cell_type": "markdown",
      "metadata": {},
      "source": [
        "### Pacotes instalados"
      ]
    },
    {
      "cell_type": "code",
      "execution_count": 3,
      "metadata": {
        "execution": {
          "iopub.execute_input": "2022-06-21T16:38:01.741Z",
          "iopub.status.busy": "2022-06-21T16:38:01.712Z",
          "iopub.status.idle": "2022-06-21T16:38:01.783Z"
        },
        "trusted": true
      },
      "outputs": [],
      "source": [
        "using Random"
      ]
    },
    {
      "cell_type": "code",
      "execution_count": 2,
      "metadata": {
        "execution": {
          "iopub.execute_input": "2022-06-20T16:00:31.626Z",
          "iopub.status.busy": "2022-06-20T16:00:31.600Z",
          "iopub.status.idle": "2022-06-20T16:00:31.666Z"
        },
        "trusted": true
      },
      "outputs": [],
      "source": [
        "# using Pkg"
      ]
    },
    {
      "cell_type": "code",
      "execution_count": 3,
      "metadata": {
        "execution": {
          "iopub.execute_input": "2022-06-20T16:00:31.728Z",
          "iopub.status.busy": "2022-06-20T16:00:31.705Z",
          "iopub.status.idle": "2022-06-20T16:00:31.765Z"
        },
        "trusted": true
      },
      "outputs": [],
      "source": [
        "# Pkg.add(\"SortingAlgorithms\")"
      ]
    },
    {
      "cell_type": "code",
      "execution_count": 4,
      "metadata": {
        "execution": {
          "iopub.execute_input": "2022-06-21T16:38:02.872Z",
          "iopub.status.busy": "2022-06-21T16:38:02.848Z",
          "iopub.status.idle": "2022-06-21T16:38:03.043Z"
        },
        "trusted": true
      },
      "outputs": [],
      "source": [
        "using SortingAlgorithms"
      ]
    },
    {
      "cell_type": "markdown",
      "metadata": {},
      "source": [
        "### Função Particionar"
      ]
    },
    {
      "cell_type": "code",
      "execution_count": 5,
      "metadata": {
        "execution": {
          "iopub.execute_input": "2022-06-21T16:38:06.339Z",
          "iopub.status.busy": "2022-06-21T16:38:06.315Z",
          "iopub.status.idle": "2022-06-21T16:38:06.391Z"
        },
        "trusted": true
      },
      "outputs": [
        {
          "data": {
            "text/plain": [
              "particionar (generic function with 1 method)"
            ]
          },
          "execution_count": 5,
          "metadata": {},
          "output_type": "execute_result"
        }
      ],
      "source": [
        "function particionar(enesima_particao::Int64, tamanho_particao::Int64, tamanho_vetor::Int64, vetor::Vector{Int64}, vetor_particionado::Vector{Vector{Int64}})\n",
        "    k::Int64 = 0\n",
        "    j::Int64 = 0\n",
        "\n",
        "    @simd for k = tamanho_particao:tamanho_particao:tamanho_vetor # c n^0.5\n",
        "        @inbounds vetor[j+1:k] = sort(vetor[j + 1:k], alg=InsertionSort) # c sum n^0.5 até n + n\n",
        "        @inbounds push!(vetor_particionado, vetor[j+1:k]) # c sum n^0.5 até n + n\n",
        "        if (enesima_particao != 0 && k == tamanho_vetor - enesima_particao)\n",
        "            @inbounds vetor[k+enesima_particao:k+enesima_particao] = sort(vetor[k + enesima_particao:k + enesima_particao], alg=InsertionSort) #c n mod n^0.5 + c\n",
        "            @inbounds push!(vetor_particionado, vetor[k+enesima_particao:k+enesima_particao]) # c n mod n^0.5\n",
        "        end\n",
        "        j = k # c n^{0.5}\n",
        "    end\n",
        "    return vetor_particionado\n",
        "end"
      ]
    },
    {
      "cell_type": "markdown",
      "metadata": {},
      "source": [
        "### Função Juntar"
      ]
    },
    {
      "cell_type": "code",
      "execution_count": 6,
      "metadata": {
        "execution": {
          "iopub.execute_input": "2022-06-21T16:38:08.408Z",
          "iopub.status.busy": "2022-06-21T16:38:08.379Z",
          "iopub.status.idle": "2022-06-21T16:38:08.645Z"
        },
        "trusted": true
      },
      "outputs": [
        {
          "data": {
            "text/plain": [
              "juntar (generic function with 1 method)"
            ]
          },
          "execution_count": 6,
          "metadata": {},
          "output_type": "execute_result"
        }
      ],
      "source": [
        "function juntar(tamanho_vetor::Int64, vetor_solucao::Vector{Int64}, vetor_particionado::Vector{Vector{Int64}})\n",
        "    maximo::Int64 = 0\n",
        "    indice_conjunto::Int64 = 0\n",
        "    indice_particao::Int64 = 0\n",
        "    @simd for _ = 1:tamanho_vetor # c n\n",
        "        @simd for k in vetor_particionado # c n^0.5 de 1 até n\n",
        "            if !isempty(k)\n",
        "                @inbounds if maximo < k[length(k)] # c n^0.5 - 1\n",
        "                    @inbounds maximo = k[length(k)] #c 1\n",
        "                    @inbounds indice_conjunto = findall(x->x==k, vetor_particionado)[1] # c n^0.5 - 1\n",
        "                    indice_particao = length(k) # c sum n^{5}\n",
        "                end\n",
        "            end\n",
        "        end\n",
        "        \n",
        "        @inbounds pushfirst!(vetor_solucao, maximo) # c n - 1\n",
        "        if !isempty(vetor_particionado[indice_conjunto])\n",
        "            @inbounds deleteat!(vetor_particionado[indice_conjunto], indice_particao) # c n - 1\n",
        "        end\n",
        "        maximo = -2^(63)\n",
        "    end\n",
        "    return vetor_solucao\n",
        "end"
      ]
    },
    {
      "cell_type": "markdown",
      "metadata": {
        "nteract": {
          "transient": {
            "deleting": false
          }
        }
      },
      "source": [
        "### Main"
      ]
    },
    {
      "cell_type": "code",
      "execution_count": 7,
      "metadata": {
        "execution": {
          "iopub.execute_input": "2022-06-21T16:38:10.980Z",
          "iopub.status.busy": "2022-06-21T16:38:10.937Z",
          "iopub.status.idle": "2022-06-21T16:38:11.182Z"
        },
        "trusted": true
      },
      "outputs": [
        {
          "data": {
            "text/plain": [
              "sqrtSort (generic function with 1 method)"
            ]
          },
          "execution_count": 7,
          "metadata": {},
          "output_type": "execute_result"
        }
      ],
      "source": [
        "function sqrtSort(vetor::Vector{Int64}) where {Int64}\n",
        "    tamanho_vetor::Int64 = 0\n",
        "    enesima_particao::Int64 = 0\n",
        "    tamanho_particao::Int64 = 0\n",
        "    vetor_solucao::Vector{Int64} = Vector{Int64}(undef,0)\n",
        "    vetor_intervalo_particionado::Vector{Int64} = Vector{Int64}(undef,0)\n",
        "    vetor_particionado::Vector{Vector{Int64}} = Vector{Vector{Int64}}(undef, 0)\n",
        "\n",
        "    tamanho_vetor = length(vetor)\n",
        "    tamanho_particao = Int(trunc(sqrt(tamanho_vetor)))\n",
        "    enesima_particao = rem(tamanho_vetor, tamanho_particao)\n",
        "    \n",
        "        \n",
        "    vetor_particionado = particionar(\n",
        "            enesima_particao,\n",
        "            tamanho_particao,\n",
        "            tamanho_vetor, \n",
        "            vetor,\n",
        "            vetor_particionado\n",
        "    )\n",
        "    \n",
        "    juntar(\n",
        "        tamanho_vetor,\n",
        "        vetor_solucao,\n",
        "        vetor_particionado\n",
        "    )\n",
        "    \n",
        "    return vetor_solucao\n",
        "end"
      ]
    },
    {
      "cell_type": "markdown",
      "metadata": {
        "nteract": {
          "transient": {
            "deleting": false
          }
        }
      },
      "source": [
        "### Teste"
      ]
    },
    {
      "cell_type": "code",
      "execution_count": 15,
      "metadata": {
        "collapsed": true,
        "execution": {
          "iopub.execute_input": "2022-06-20T16:13:04.933Z",
          "iopub.status.busy": "2022-06-20T16:13:04.898Z",
          "iopub.status.idle": "2022-06-20T16:13:05.021Z"
        },
        "jupyter": {
          "outputs_hidden": false,
          "source_hidden": false
        },
        "nteract": {
          "transient": {
            "deleting": false
          }
        }
      },
      "outputs": [
        {
          "data": {
            "text/plain": [
              "f1 (generic function with 1 method)"
            ]
          },
          "execution_count": 15,
          "metadata": {},
          "output_type": "execute_result"
        }
      ],
      "source": [
        "function f1()\n",
        "  vetor::Vector{Int64} = rand(Int64, 10)\n",
        "  @time vetor_solucao = sqrtSort(vetor)\n",
        "end"
      ]
    },
    {
      "cell_type": "code",
      "execution_count": 9,
      "metadata": {
        "collapsed": true,
        "execution": {
          "iopub.execute_input": "2022-06-21T16:38:19.499Z",
          "iopub.status.busy": "2022-06-21T16:38:19.454Z",
          "iopub.status.idle": "2022-06-21T16:38:19.699Z"
        },
        "jupyter": {
          "outputs_hidden": false,
          "source_hidden": false
        },
        "nteract": {
          "transient": {
            "deleting": false
          }
        }
      },
      "outputs": [
        {
          "data": {
            "text/plain": [
              "f2 (generic function with 1 method)"
            ]
          },
          "execution_count": 9,
          "metadata": {},
          "output_type": "execute_result"
        }
      ],
      "source": [
        "function f2()\n",
        "    vetor::Vector{Int64} = rand(Int64, 100)\n",
        "    @time vetor_solucao = sqrtSort(vetor)\n",
        "end"
      ]
    },
    {
      "cell_type": "code",
      "execution_count": 8,
      "metadata": {
        "collapsed": true,
        "execution": {
          "iopub.execute_input": "2022-06-21T16:38:17.004Z",
          "iopub.status.busy": "2022-06-21T16:38:16.969Z",
          "iopub.status.idle": "2022-06-21T16:38:17.215Z"
        },
        "jupyter": {
          "outputs_hidden": false,
          "source_hidden": false
        },
        "nteract": {
          "transient": {
            "deleting": false
          }
        }
      },
      "outputs": [
        {
          "data": {
            "text/plain": [
              "f3 (generic function with 1 method)"
            ]
          },
          "execution_count": 8,
          "metadata": {},
          "output_type": "execute_result"
        }
      ],
      "source": [
        "function f3()\n",
        "  vetor::Vector{Int64} = rand(Int64, 1000)\n",
        "  @time vetor_solucao = sqrtSort(vetor)\n",
        "end"
      ]
    },
    {
      "cell_type": "code",
      "execution_count": 18,
      "metadata": {
        "collapsed": true,
        "execution": {
          "iopub.execute_input": "2022-06-20T16:13:09.328Z",
          "iopub.status.busy": "2022-06-20T16:13:09.303Z",
          "iopub.status.idle": "2022-06-20T16:13:09.476Z"
        },
        "jupyter": {
          "outputs_hidden": false,
          "source_hidden": false
        },
        "nteract": {
          "transient": {
            "deleting": false
          }
        }
      },
      "outputs": [
        {
          "data": {
            "text/plain": [
              "f4 (generic function with 1 method)"
            ]
          },
          "execution_count": 18,
          "metadata": {},
          "output_type": "execute_result"
        }
      ],
      "source": [
        "function f4()\n",
        "  vetor::Vector{Int64} = rand(Int64, 10000)\n",
        "  @time vetor_solucao = sqrtSort(vetor)\n",
        "end"
      ]
    },
    {
      "cell_type": "code",
      "execution_count": 19,
      "metadata": {
        "collapsed": true,
        "execution": {
          "iopub.execute_input": "2022-06-20T16:13:11.425Z",
          "iopub.status.busy": "2022-06-20T16:13:11.393Z",
          "iopub.status.idle": "2022-06-20T16:13:11.599Z"
        },
        "jupyter": {
          "outputs_hidden": false,
          "source_hidden": false
        },
        "nteract": {
          "transient": {
            "deleting": false
          }
        }
      },
      "outputs": [
        {
          "data": {
            "text/plain": [
              "f5 (generic function with 1 method)"
            ]
          },
          "execution_count": 19,
          "metadata": {},
          "output_type": "execute_result"
        }
      ],
      "source": [
        "function f5()\n",
        "  vetor::Vector{Int64} = rand(Int64, 100000)\n",
        "  @time vetor_solucao = sqrtSort(vetor)\n",
        "end"
      ]
    },
    {
      "cell_type": "code",
      "execution_count": 20,
      "metadata": {
        "collapsed": true,
        "execution": {
          "iopub.execute_input": "2022-06-20T16:13:12.813Z",
          "iopub.status.busy": "2022-06-20T16:13:12.791Z",
          "iopub.status.idle": "2022-06-20T16:13:12.959Z"
        },
        "jupyter": {
          "outputs_hidden": false,
          "source_hidden": false
        },
        "nteract": {
          "transient": {
            "deleting": false
          }
        }
      },
      "outputs": [
        {
          "data": {
            "text/plain": [
              "f6 (generic function with 1 method)"
            ]
          },
          "execution_count": 20,
          "metadata": {},
          "output_type": "execute_result"
        }
      ],
      "source": [
        "function f6()\n",
        "  vetor::Vector{Int64} = rand(Int64, 1000000)\n",
        "  @time vetor_solucao = sqrtSort(vetor)\n",
        "end"
      ]
    },
    {
      "cell_type": "code",
      "execution_count": 21,
      "metadata": {
        "collapsed": true,
        "execution": {
          "iopub.execute_input": "2022-06-20T16:13:14.920Z",
          "iopub.status.busy": "2022-06-20T16:13:14.893Z",
          "iopub.status.idle": "2022-06-20T16:13:15.089Z"
        },
        "jupyter": {
          "outputs_hidden": false,
          "source_hidden": false
        },
        "nteract": {
          "transient": {
            "deleting": false
          }
        }
      },
      "outputs": [
        {
          "data": {
            "text/plain": [
              "f7 (generic function with 1 method)"
            ]
          },
          "execution_count": 21,
          "metadata": {},
          "output_type": "execute_result"
        }
      ],
      "source": [
        "function f7()\n",
        "  vetor::Vector{Int64} = rand(Int64, 10000000)\n",
        "  @time vetor_solucao = sqrtSort(vetor)\n",
        "end"
      ]
    },
    {
      "cell_type": "code",
      "execution_count": 22,
      "metadata": {
        "execution": {
          "iopub.execute_input": "2022-06-20T16:13:16.990Z",
          "iopub.status.busy": "2022-06-20T16:13:16.963Z",
          "iopub.status.idle": "2022-06-20T16:13:20.627Z"
        },
        "trusted": true
      },
      "outputs": [
        {
          "name": "stdout",
          "output_type": "stream",
          "text": [
            "  0.218443 seconds (302.02 k allocations: 16.219 MiB, 99.96% compilation time)\n",
            "  0.309267 seconds (320.80 k allocations: 17.451 MiB, 93.60% compilation time)\n"
          ]
        },
        {
          "data": {
            "text/plain": [
              "10-element Vector{Int64}:\n",
              " -6713772302423863707\n",
              " -5591902783780751559\n",
              " -3481251736528237610\n",
              " -1369671260792274562\n",
              "  -517802285714479169\n",
              "   -39269830224170673\n",
              "  4185723834833254104\n",
              "  4793560041261470790\n",
              "  4869153343192072547\n",
              "  8262100160120403640"
            ]
          },
          "execution_count": 22,
          "metadata": {},
          "output_type": "execute_result"
        }
      ],
      "source": [
        "@time f1()"
      ]
    },
    {
      "cell_type": "code",
      "execution_count": 10,
      "metadata": {
        "collapsed": true,
        "execution": {
          "iopub.execute_input": "2022-06-21T16:38:23.795Z",
          "iopub.status.busy": "2022-06-21T16:38:23.765Z",
          "iopub.status.idle": "2022-06-21T16:38:27.724Z"
        },
        "jupyter": {
          "outputs_hidden": false,
          "source_hidden": false
        },
        "nteract": {
          "transient": {
            "deleting": false
          }
        }
      },
      "outputs": [
        {
          "name": "stdout",
          "output_type": "stream",
          "text": [
            "  0.260561 seconds (303.56 k allocations: 16.278 MiB, 99.88% compilation time)\n"
          ]
        },
        {
          "data": {
            "text/plain": [
              "100-element Vector{Int64}:\n",
              " -9061168867511378882\n",
              " -8535651507949771165\n",
              " -8274034201656134799\n",
              " -7458157698177702161\n",
              " -7243942881598378026\n",
              " -6993626960438031252\n",
              " -6819479968765817548\n",
              " -6685197464413176767\n",
              " -6622624993348434681\n",
              " -6434660065409238520\n",
              " -6415636939904253348\n",
              " -6312132328520459339\n",
              " -6158843549871242587\n",
              "                    ⋮\n",
              "  6419217689500333146\n",
              "  6654643366754878295\n",
              "  7107981027314989021\n",
              "  7205646250239752322\n",
              "  7243539384983362567\n",
              "  7701789592882647458\n",
              "  8011791970283865044\n",
              "  8361121772557006321\n",
              "  8382366571183583022\n",
              "  8385329146415252414\n",
              "  8685323857838249428\n",
              "  8815290518692398219"
            ]
          },
          "execution_count": 10,
          "metadata": {},
          "output_type": "execute_result"
        }
      ],
      "source": [
        "f2()"
      ]
    },
    {
      "cell_type": "code",
      "execution_count": 23,
      "metadata": {
        "collapsed": true,
        "execution": {
          "iopub.execute_input": "2022-06-20T16:13:47.544Z",
          "iopub.status.busy": "2022-06-20T16:13:47.526Z",
          "iopub.status.idle": "2022-06-20T16:13:47.585Z"
        },
        "jupyter": {
          "outputs_hidden": false,
          "source_hidden": false
        },
        "nteract": {
          "transient": {
            "deleting": false
          }
        }
      },
      "outputs": [
        {
          "name": "stdout",
          "output_type": "stream",
          "text": [
            "  0.004885 seconds (23.91 k allocations: 918.844 KiB)\n"
          ]
        },
        {
          "data": {
            "text/plain": [
              "1000-element Vector{Int64}:\n",
              " -9223372036854775808\n",
              " -9223372036854775808\n",
              " -9223372036854775808\n",
              " -9223372036854775808\n",
              " -9223372036854775808\n",
              " -9223372036854775808\n",
              " -9223372036854775808\n",
              " -9221052099668049641\n",
              " -9219079659070369917\n",
              " -9216702829448661117\n",
              " -9199849087014855523\n",
              " -9185108097038026886\n",
              " -9155325745915312240\n",
              "                    ⋮\n",
              "  9086296418997570395\n",
              "  9086814171766291310\n",
              "  9091080488762948246\n",
              "  9094747212151842068\n",
              "  9106161517003809199\n",
              "  9109430833744062413\n",
              "  9122078800394552200\n",
              "  9132272160815432716\n",
              "  9156664370644565316\n",
              "  9167289585697661973\n",
              "  9177557443700835383\n",
              "  9199572410923210953"
            ]
          },
          "execution_count": 23,
          "metadata": {},
          "output_type": "execute_result"
        }
      ],
      "source": [
        "f3()"
      ]
    },
    {
      "cell_type": "code",
      "execution_count": 24,
      "metadata": {
        "collapsed": true,
        "execution": {
          "iopub.execute_input": "2022-06-20T16:13:49.778Z",
          "iopub.status.busy": "2022-06-20T16:13:49.759Z",
          "iopub.status.idle": "2022-06-20T16:13:49.937Z"
        },
        "jupyter": {
          "outputs_hidden": false,
          "source_hidden": false
        },
        "nteract": {
          "transient": {
            "deleting": false
          }
        }
      },
      "outputs": [
        {
          "name": "stdout",
          "output_type": "stream",
          "text": [
            "  0.125436 seconds (311.37 k allocations: 12.443 MiB)\n"
          ]
        },
        {
          "data": {
            "text/plain": [
              "10000-element Vector{Int64}:\n",
              " -9221323576812053298\n",
              " -9219210930395581075\n",
              " -9217260419618908874\n",
              " -9211659664442516504\n",
              " -9210940650570060788\n",
              " -9210834736452737314\n",
              " -9208853734872259820\n",
              " -9206186955415475117\n",
              " -9204352587495643227\n",
              " -9201432916043492308\n",
              " -9198269755681988231\n",
              " -9195122813135082231\n",
              " -9193900756304246106\n",
              "                    ⋮\n",
              "  9205189456925854541\n",
              "  9206172583919067202\n",
              "  9207012172768173061\n",
              "  9207370084543135284\n",
              "  9210833089380953098\n",
              "  9213117088083891316\n",
              "  9213368396939869226\n",
              "  9215617977802037508\n",
              "  9218235883186932290\n",
              "  9221456591809019943\n",
              "  9222385761494355507\n",
              "  9223325709378456887"
            ]
          },
          "execution_count": 24,
          "metadata": {},
          "output_type": "execute_result"
        }
      ],
      "source": [
        "f4()"
      ]
    },
    {
      "cell_type": "code",
      "execution_count": 25,
      "metadata": {
        "collapsed": true,
        "execution": {
          "iopub.execute_input": "2022-06-20T16:13:55.467Z",
          "iopub.status.busy": "2022-06-20T16:13:55.442Z",
          "iopub.status.idle": "2022-06-20T16:13:58.463Z"
        },
        "jupyter": {
          "outputs_hidden": false,
          "source_hidden": false
        },
        "nteract": {
          "transient": {
            "deleting": false
          }
        }
      },
      "outputs": [
        {
          "name": "stdout",
          "output_type": "stream",
          "text": [
            "  2.993587 seconds (4.46 M allocations: 2.698 GiB, 7.46% gc time)\n"
          ]
        },
        {
          "data": {
            "text/plain": [
              "100000-element Vector{Int64}:\n",
              " -9223372036854775808\n",
              " -9223372036854775808\n",
              " -9223372036854775808\n",
              " -9223372036854775808\n",
              " -9223372036854775808\n",
              " -9223372036854775808\n",
              " -9223372036854775808\n",
              " -9223372036854775808\n",
              " -9223372036854775808\n",
              " -9223372036854775808\n",
              " -9223372036854775808\n",
              " -9223372036854775808\n",
              " -9223372036854775808\n",
              "                    ⋮\n",
              "  9221264811728685288\n",
              "  9221273661924057117\n",
              "  9221610308619691075\n",
              "  9221927346183136356\n",
              "  9222018064072200070\n",
              "  9222152316658333916\n",
              "  9222164129128855620\n",
              "  9222493312280399680\n",
              "  9222738183844632888\n",
              "  9222942491780711257\n",
              "  9223034055767561192\n",
              "  9223261679250598406"
            ]
          },
          "execution_count": 25,
          "metadata": {},
          "output_type": "execute_result"
        }
      ],
      "source": [
        "f5()"
      ]
    },
    {
      "cell_type": "code",
      "execution_count": 26,
      "metadata": {
        "collapsed": true,
        "execution": {
          "iopub.execute_input": "2022-06-20T16:14:02.095Z",
          "iopub.status.busy": "2022-06-20T16:14:02.070Z",
          "iopub.status.idle": "2022-06-20T16:15:10.381Z"
        },
        "jupyter": {
          "outputs_hidden": false,
          "source_hidden": false
        },
        "nteract": {
          "transient": {
            "deleting": false
          }
        }
      },
      "outputs": [
        {
          "name": "stdout",
          "output_type": "stream",
          "text": [
            " 68.228278 seconds (52.44 M allocations: 32.396 GiB, 5.59% gc time)\n"
          ]
        },
        {
          "data": {
            "text/plain": [
              "1000000-element Vector{Int64}:\n",
              " -9223354835006886285\n",
              " -9223352914581862355\n",
              " -9223299499838221273\n",
              " -9223287803800678138\n",
              " -9223283751240312496\n",
              " -9223277260497213359\n",
              " -9223272419810748986\n",
              " -9223267575272079309\n",
              " -9223250108280368566\n",
              " -9223247058941191526\n",
              " -9223242227034408355\n",
              " -9223222642345887068\n",
              " -9223218974710824487\n",
              "                    ⋮\n",
              "  9223126300354011039\n",
              "  9223129409872019068\n",
              "  9223134803360430247\n",
              "  9223151851226834944\n",
              "  9223157870742415163\n",
              "  9223221974374166044\n",
              "  9223237246355701452\n",
              "  9223253912612535371\n",
              "  9223299618049286641\n",
              "  9223307034365755267\n",
              "  9223350614464363218\n",
              "  9223359619850944767"
            ]
          },
          "execution_count": 26,
          "metadata": {},
          "output_type": "execute_result"
        }
      ],
      "source": [
        "f6()"
      ]
    },
    {
      "cell_type": "code",
      "execution_count": 27,
      "metadata": {
        "collapsed": true,
        "execution": {
          "iopub.execute_input": "2022-06-20T16:15:10.455Z",
          "iopub.status.busy": "2022-06-20T16:15:10.428Z",
          "iopub.status.idle": "2022-06-20T16:34:50.496Z"
        },
        "jupyter": {
          "outputs_hidden": false,
          "source_hidden": false
        },
        "nteract": {
          "transient": {
            "deleting": false
          }
        }
      },
      "outputs": [
        {
          "name": "stdout",
          "output_type": "stream",
          "text": [
            "1179.790976 seconds (604.25 M allocations: 397.675 GiB, 1.56% gc time)\n"
          ]
        },
        {
          "data": {
            "text/plain": [
              "10000000-element Vector{Int64}:\n",
              " -9223372036854775808\n",
              " -9223372036854775808\n",
              " -9223372036854775808\n",
              " -9223372036854775808\n",
              " -9223372036854775808\n",
              " -9223372036854775808\n",
              " -9223372036854775808\n",
              " -9223372036854775808\n",
              " -9223372036854775808\n",
              " -9223372036854775808\n",
              " -9223372036854775808\n",
              " -9223372036854775808\n",
              " -9223372036854775808\n",
              "                    ⋮\n",
              "  9223347508153394355\n",
              "  9223348588792782941\n",
              "  9223355407136468143\n",
              "  9223357495608388580\n",
              "  9223358493299237594\n",
              "  9223360752193881463\n",
              "  9223362130325981774\n",
              "  9223365686396373139\n",
              "  9223367796601588683\n",
              "  9223367916340502416\n",
              "  9223368217250267005\n",
              "  9223368726089216683"
            ]
          },
          "execution_count": 27,
          "metadata": {},
          "output_type": "execute_result"
        }
      ],
      "source": [
        "f7()"
      ]
    }
  ],
  "metadata": {
    "kernelspec": {
      "display_name": "Julia 1.7.1",
      "language": "julia",
      "name": "julia-1.7"
    },
    "language_info": {
      "file_extension": ".jl",
      "mimetype": "application/julia",
      "name": "julia",
      "version": "1.7.3"
    },
    "nteract": {
      "version": "0.28.0"
    }
  },
  "nbformat": 4,
  "nbformat_minor": 2
}
